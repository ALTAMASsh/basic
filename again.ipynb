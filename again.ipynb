{
 "cells": [
  {
   "cell_type": "markdown",
   "id": "74ff15a2-8de4-4b2c-b055-57d2d5c87f1e",
   "metadata": {
    "jp-MarkdownHeadingCollapsed": true,
    "tags": []
   },
   "source": [
    "### TOPIC: Python Basics Variable"
   ]
  },
  {
   "cell_type": "code",
   "execution_count": 4,
   "id": "47418cc2-678b-4d9e-935b-3cda186b8ace",
   "metadata": {},
   "outputs": [
    {
     "name": "stdin",
     "output_type": "stream",
     "text": [
      "input varriabl 10\n",
      "input Varriable 20\n"
     ]
    },
    {
     "name": "stdout",
     "output_type": "stream",
     "text": [
      "x:- 20\n",
      "y:- 10\n"
     ]
    }
   ],
   "source": [
    "#1. Declare two variables, `x` and `y`, and assign them integer values. Swap thevalues of these variables without using any temporary variable.\n",
    "x = int(input(\"input varriabl\"))\n",
    "y = int(input(\"input Varriable\"))\n",
    "x = x + y \n",
    "y = x - y \n",
    "x = x - y\n",
    "print(\"x:-\",x)\n",
    "print(\"y:-\",y)"
   ]
  },
  {
   "cell_type": "code",
   "execution_count": 6,
   "id": "0d23db0b-b5bf-4ec9-a3c2-5cf4fb4a07cd",
   "metadata": {},
   "outputs": [
    {
     "name": "stdin",
     "output_type": "stream",
     "text": [
      "input lenght 10\n",
      "input width 20\n"
     ]
    },
    {
     "name": "stdout",
     "output_type": "stream",
     "text": [
      "200\n"
     ]
    }
   ],
   "source": [
    "#2. Create a program that calculates the area of a rectangle. Take the length and width as inputs from the user and store them in variables. Calculate and display the area\n",
    "lenght = int(input(\"input lenght\"))\n",
    "width = int(input(\"input width\"))\n",
    "area = lenght*width\n",
    "print(area)"
   ]
  },
  {
   "cell_type": "code",
   "execution_count": null,
   "id": "f3f0674a-9c54-4f5e-ad90-0e492501285d",
   "metadata": {},
   "outputs": [],
   "source": [
    "#3. Write a Python program that converts temperatures from Celsius toFahrenheit. Take the temperature in Celsius as input, store it in a variable,convert it to Fahrenheit, and display the result\n",
    "celsius = float(input(\"Enter the temperature in Celsius: \"))\n",
    "\n",
    "fahrenheit = (celsius * 9/5) + 32\n",
    "\n",
    "print(celsius, \"°C is equal to\", fahrenheit, \"°F\")\n"
   ]
  },
  {
   "cell_type": "markdown",
   "id": "42943c1b-dbcf-4b54-b467-131f1526a546",
   "metadata": {},
   "source": [
    "### TOPIC: String Based Questions\n"
   ]
  },
  {
   "cell_type": "code",
   "execution_count": null,
   "id": "8e3d6769-2435-40e0-94b9-bbfc9be1dac6",
   "metadata": {},
   "outputs": [],
   "source": [
    "#1. Write a Python program that takes a string as input and prints the length of the string.\n",
    "string = input(\"enter string\")\n",
    "count = 0\n",
    "for i in string:\n",
    "    count +=1\n",
    "print(count)"
   ]
  },
  {
   "cell_type": "code",
   "execution_count": 12,
   "id": "41ae265b-2384-4e6f-9091-21759d7605bb",
   "metadata": {},
   "outputs": [
    {
     "data": {
      "text/plain": [
       "6"
      ]
     },
     "execution_count": 12,
     "metadata": {},
     "output_type": "execute_result"
    }
   ],
   "source": [
    "#1. Write a Python program that takes a string as input and prints the length of the string\n",
    "def lenght(string):\n",
    "    if string == \"\":\n",
    "        return 0\n",
    "    else:\n",
    "         return 1+lenght(string[1::])\n",
    "string = \"najish\"\n",
    "lenght(string)"
   ]
  },
  {
   "cell_type": "code",
   "execution_count": null,
   "id": "918ebdec-67e5-4342-90cf-5d98e49f9c45",
   "metadata": {},
   "outputs": [],
   "source": [
    "#2. Create a program that takes a sentence from the user and counts the number of vowels (a, e, i, o, u) in the string.\n",
    "user_input = input(\"enter sentence\")\n",
    "vowel =[\"a\",\"e\",\"i\",\"o\",\"u\"]\n",
    "cont = 0\n",
    "for i in user_input:\n",
    "    if i in vowel:\n",
    "        cont +=1\n",
    "print(cont)"
   ]
  },
  {
   "cell_type": "code",
   "execution_count": null,
   "id": "eefa5066-fcf9-4919-8871-7ff72e609da4",
   "metadata": {},
   "outputs": [],
   "source": [
    "#3. Given a string, reverse the order of characters using string slicing and print the reversed string.\n",
    "def reve(string):\n",
    "    rev = string[::-1]\n",
    "    return rev\n",
    "string = \"najish\"\n",
    "reve(string)"
   ]
  },
  {
   "cell_type": "code",
   "execution_count": null,
   "id": "27c887ba-a9f0-4db9-a4e7-f27d208a1959",
   "metadata": {},
   "outputs": [],
   "source": [
    "#4. Write a program that takes a string as input and checks if it is a palindrome\n",
    "# from using prev function\n",
    "def is_pailandrome(string):\n",
    "    r  = reve(string)\n",
    "    if string == r:\n",
    "        return True\n",
    "    else:\n",
    "        return False\n",
    "is_pailandrome(\"REPAPER\")"
   ]
  },
  {
   "cell_type": "code",
   "execution_count": null,
   "id": "c6e77e59-f1e8-47a1-b402-da6b7bd56a4c",
   "metadata": {},
   "outputs": [],
   "source": [
    "#5. Create a program that takes a string as input and removes all the spaces from it. Print the modified string without spaces\n",
    "string = input(\"enter string\")\n",
    "string = string.replace(\" \",\"\")\n",
    "print(string)\n",
    "    "
   ]
  },
  {
   "cell_type": "code",
   "execution_count": null,
   "id": "88745ffc-809a-419c-94c7-b9853ed42014",
   "metadata": {},
   "outputs": [],
   "source": []
  }
 ],
 "metadata": {
  "kernelspec": {
   "display_name": "Python 3 (ipykernel)",
   "language": "python",
   "name": "python3"
  },
  "language_info": {
   "codemirror_mode": {
    "name": "ipython",
    "version": 3
   },
   "file_extension": ".py",
   "mimetype": "text/x-python",
   "name": "python",
   "nbconvert_exporter": "python",
   "pygments_lexer": "ipython3",
   "version": "3.10.8"
  }
 },
 "nbformat": 4,
 "nbformat_minor": 5
}
